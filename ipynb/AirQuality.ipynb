{
 "cells": [
  {
   "cell_type": "code",
   "execution_count": 22,
   "metadata": {},
   "outputs": [
    {
     "data": {
      "image/png": "[encoded data removed]",
      "text/plain": [
       "<Figure size 432x288 with 1 Axes>"
      ]
     },
     "metadata": {
      "needs_background": "light"
     },
     "output_type": "display_data"
    }
   ],
   "source": [
    "import numpy as np\n",
    "import matplotlib.pyplot as plt\n",
    "import pandas as pd\n",
    "dataset=pd.read_csv(\"C:\\\\Users\\\\Admin\\\\Desktop\\\\CSV\\\\sample.csv\")\n",
    "plt.scatter(dataset['Sno'],dataset['AirQuality'])\n",
    "plt.xlabel('Sno')\n",
    "plt.ylabel(\"AirQuality\")\n",
    "plt.show()"
   ]
  },
  {
   "cell_type": "code",
   "execution_count": 23,
   "metadata": {},
   "outputs": [
    {
     "data": {
      "text/plain": [
       "LinearRegression(copy_X=True, fit_intercept=True, n_jobs=None, normalize=False)"
      ]
     },
     "execution_count": 23,
     "metadata": {},
     "output_type": "execute_result"
    }
   ],
   "source": [
    "X = dataset.iloc[:,:-1].values\n",
    "y=dataset.iloc[:,-1].values\n",
    "from sklearn.model_selection import train_test_split\n",
    "X_train,X_test,y_train,y_test=train_test_split(X,y,test_size=1/3,random_state=101)\n",
    "from sklearn.linear_model import LinearRegression\n",
    "LR=LinearRegression()\n",
    "LR.fit(X_train,y_train)"
   ]
  },
  {
   "cell_type": "code",
   "execution_count": 29,
   "metadata": {},
   "outputs": [
    {
     "name": "stdout",
     "output_type": "stream",
     "text": [
      "   Prediction  Original Data       Diff\n",
      "0   98.503074           99.0   0.496926\n",
      "1   99.213491           94.0  -5.213491\n",
      "2   96.194218           99.0   2.805782\n",
      "3   98.147865           97.0  -1.147865\n",
      "4   95.306197           93.0  -2.306197\n",
      "5   99.746303           88.0 -11.746303\n",
      "6   99.568699           89.0 -10.568699\n",
      "7   97.792657           97.0  -0.792657\n",
      "8   99.391095           90.0  -9.391095\n",
      "9   99.923908           88.0 -11.923908\n",
      "\n",
      "\n",
      "Predicted AirQuality Index: 98.37875062302706\n"
     ]
    }
   ],
   "source": [
    "y_pred_LR=LR.predict(X_test)\n",
    "diff_LR=y_test-y_pred_LR\n",
    "res_df=pd.concat([pd.Series(y_pred_LR),pd.Series(y_test),pd.Series(diff_LR)],axis=1)\n",
    "res_df.columns=['Prediction','Original Data','Diff']\n",
    "avgair=(sum(res_df['Prediction']))/len(res_df['Prediction'])\n",
    "print(res_df)\n",
    "print(\"\\n\")\n",
    "print(\"Predicted AirQuality Index:\",avgair)"
   ]
  },
  {
   "cell_type": "code",
   "execution_count": null,
   "metadata": {},
   "outputs": [],
   "source": []
  }
 ],
 "metadata": {
  "kernelspec": {
   "display_name": "Python 3",
   "language": "python",
   "name": "python3"
  },
  "language_info": {
   "codemirror_mode": {
    "name": "ipython",
    "version": 3
   },
   "file_extension": ".py",
   "mimetype": "text/x-python",
   "name": "python",
   "nbconvert_exporter": "python",
   "pygments_lexer": "ipython3",
   "version": "3.7.4"
  }
 },
 "nbformat": 4,
 "nbformat_minor": 2
}
