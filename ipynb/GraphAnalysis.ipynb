{
 "cells": [
  {
   "cell_type": "code",
   "execution_count": 2,
   "metadata": {},
   "outputs": [
    {
     "ename": "AttributeError",
     "evalue": "'Figure' object has no attribute 'grid'",
     "output_type": "error",
     "traceback": [
      "\u001b[1;31m---------------------------------------------------------------------------\u001b[0m",
      "\u001b[1;31mAttributeError\u001b[0m                            Traceback (most recent call last)",
      "\u001b[1;32m<ipython-input-2-f4bd5d7a11a1>\u001b[0m in \u001b[0;36m<module>\u001b[1;34m\u001b[0m\n\u001b[0;32m     41\u001b[0m \u001b[0mdf1\u001b[0m\u001b[1;33m.\u001b[0m\u001b[0mplot\u001b[0m\u001b[1;33m(\u001b[0m\u001b[0mkind\u001b[0m\u001b[1;33m=\u001b[0m\u001b[1;34m'line'\u001b[0m\u001b[1;33m,\u001b[0m \u001b[0mlegend\u001b[0m\u001b[1;33m=\u001b[0m\u001b[1;32mTrue\u001b[0m\u001b[1;33m,\u001b[0m \u001b[0max\u001b[0m\u001b[1;33m=\u001b[0m\u001b[0max1\u001b[0m\u001b[1;33m,\u001b[0m \u001b[0mcolor\u001b[0m\u001b[1;33m=\u001b[0m\u001b[1;34m'r'\u001b[0m\u001b[1;33m,\u001b[0m\u001b[0mmarker\u001b[0m\u001b[1;33m=\u001b[0m\u001b[1;34m'o'\u001b[0m\u001b[1;33m,\u001b[0m \u001b[0mfontsize\u001b[0m\u001b[1;33m=\u001b[0m\u001b[1;36m10\u001b[0m\u001b[1;33m)\u001b[0m\u001b[1;33m\u001b[0m\u001b[1;33m\u001b[0m\u001b[0m\n\u001b[0;32m     42\u001b[0m \u001b[0max1\u001b[0m\u001b[1;33m.\u001b[0m\u001b[0mset_title\u001b[0m\u001b[1;33m(\u001b[0m\u001b[1;34m'Humidity-Original VS Prediction'\u001b[0m\u001b[1;33m)\u001b[0m\u001b[1;33m\u001b[0m\u001b[1;33m\u001b[0m\u001b[0m\n\u001b[1;32m---> 43\u001b[1;33m \u001b[0mfigure1\u001b[0m\u001b[1;33m.\u001b[0m\u001b[0mgrid\u001b[0m\u001b[1;33m(\u001b[0m\u001b[0mrow\u001b[0m\u001b[1;33m=\u001b[0m\u001b[1;36m0\u001b[0m\u001b[1;33m,\u001b[0m\u001b[0mcolumn\u001b[0m\u001b[1;33m=\u001b[0m\u001b[1;36m1\u001b[0m\u001b[1;33m)\u001b[0m\u001b[1;33m\u001b[0m\u001b[1;33m\u001b[0m\u001b[0m\n\u001b[0m\u001b[0;32m     44\u001b[0m \u001b[1;33m\u001b[0m\u001b[0m\n\u001b[0;32m     45\u001b[0m \u001b[0mfigure3\u001b[0m \u001b[1;33m=\u001b[0m \u001b[0mplt\u001b[0m\u001b[1;33m.\u001b[0m\u001b[0mFigure\u001b[0m\u001b[1;33m(\u001b[0m\u001b[0mfigsize\u001b[0m\u001b[1;33m=\u001b[0m\u001b[1;33m(\u001b[0m\u001b[1;36m3\u001b[0m\u001b[1;33m,\u001b[0m\u001b[1;36m2\u001b[0m\u001b[1;33m)\u001b[0m\u001b[1;33m,\u001b[0m \u001b[0mdpi\u001b[0m\u001b[1;33m=\u001b[0m\u001b[1;36m100\u001b[0m\u001b[1;33m)\u001b[0m\u001b[1;33m\u001b[0m\u001b[1;33m\u001b[0m\u001b[0m\n",
      "\u001b[1;31mAttributeError\u001b[0m: 'Figure' object has no attribute 'grid'"
     ]
    }
   ],
   "source": [
    "import tkinter as tk\n",
    "from tkinter import *\n",
    "from pandas import DataFrame\n",
    "from matplotlib import pyplot as plt\n",
    "from matplotlib.backends.backend_tkagg import FigureCanvasTkAgg\n",
    "\n",
    "data1 = {'Original Data': [49,62,32,46,43,28,52,54,40,62,16,34],\n",
    "         'Prediction': [41.45533679,43.70945057,34.69299545,54.2286482,46.71493561,37.69848049,\n",
    "51.97453442,45.96356435,44.46082183,66.25058836,33.94162419,49.72042065]\n",
    "        }\n",
    "df1 = DataFrame(data1,columns=['Original data','Prediction'])\n",
    "\n",
    "data2 = {'Original Data': [48.87500095,60,60.20000076,76.42500114,64.17499924,\n",
    "                           64.97500038,65.07500172,56.19999886,36.5,37.02499962,64.125,63.90000153],\n",
    "         'Prediction': [19.58702318,26.71533585,60.45309294,65.87117779,55.72533809,58.16606019,\n",
    "                        60.32541363,40.49536235,48.18811704,49.12050225,58.24086805,60.63191158]\n",
    "        }\n",
    "df2 = DataFrame(data2,columns=['Original data','Prediction'])\n",
    "\n",
    "data3 = {'Original Data': [1012.8,1019.1,1005.4,1028.7,1013.5,\n",
    "1003,1030,1015.6,1019.6,1020.8,1015.4,1021],\n",
    "         'Prediction': [1012.054895,1016.913703,1005.327313,1029.43448,1013.176158,\n",
    "                        1005.51419,1026.911637,1015.231808,1017.84809,1020.931564,1017.84809,1021.585635]\n",
    "        }\n",
    "df3 = DataFrame(data3,columns=['Original Data','Prediction'])\n",
    "\n",
    "data4 = {'Original Data': [26.3,11.3,24.5,17.4,16.5,34,10.2,20,17.9,12.1,19.5,19.8],\n",
    "         'Prediction': [28.13413991,14.27790022,22.41091047,12.26974954,19.09746185,\n",
    "                        30.34310566,12.57097214,22.81254061,19.09746185,9.357931055,17.99297898,17.29012624]\n",
    "        }\n",
    "df4 = DataFrame(data4,columns=['Original Data','Prediction'])\n",
    "\n",
    "root= Tk()\n",
    "root.geometry('1200x500')\n",
    "root.title(\"Predictive analysis\")\n",
    "  \n",
    "figure1 = plt.Figure(figsize=(3,2), dpi=100)\n",
    "ax1 = figure1.add_subplot(111)\n",
    "line1 = FigureCanvasTkAgg(figure1, root)\n",
    "line1.get_tk_widget().pack(side=tk.LEFT, fill=tk.BOTH)\n",
    "df1.plot(kind='line', legend=True, ax=ax1, color='r',marker='o', fontsize=10)\n",
    "ax1.set_title('Humidity-Original VS Prediction')\n",
    "\n",
    "figure3 = plt.Figure(figsize=(3,2), dpi=100)\n",
    "ax3 = figure3.add_subplot(111)\n",
    "ax3.scatter(df3['Original Data'],df3['Prediction'], color = 'g')\n",
    "scatter3 = FigureCanvasTkAgg(figure3, root) \n",
    "scatter3.get_tk_widget().pack(side=tk.LEFT, fill=tk.BOTH)\n",
    "ax3.legend(['Prediction']) \n",
    "ax3.set_xlabel('Original Data')\n",
    "ax3.set_title('Pressure-Original VS Prediction')\n",
    "\n",
    "\n",
    "figure2 = plt.Figure(figsize=(3,2), dpi=100)\n",
    "ax2 = figure2.add_subplot(111)\n",
    "line2 = FigureCanvasTkAgg(figure2, root)\n",
    "line2.get_tk_widget().pack(side=tk.LEFT, fill=tk.BOTH)\n",
    "df2.plot(kind='line', legend=True, ax=ax2, color='r',marker='o', fontsize=10)\n",
    "ax2.set_title('AirQuality-Original VS Prediction')\n",
    "\n",
    "figure4 = plt.Figure(figsize=(3,2), dpi=100)\n",
    "ax4 = figure4.add_subplot(111)\n",
    "ax4.scatter(df4['Original Data'],df3['Prediction'], color = 'g')\n",
    "scatter3 = FigureCanvasTkAgg(figure4, root) \n",
    "scatter3.get_tk_widget().pack(side=tk.LEFT, fill=tk.BOTH)\n",
    "ax4.legend(['Prediction']) \n",
    "ax4.set_xlabel('Original Data')\n",
    "ax4.set_title('Pressure-Original VS Prediction')\n",
    "\n",
    "root.mainloop()\n"
   ]
  },
  {
   "cell_type": "code",
   "execution_count": null,
   "metadata": {},
   "outputs": [],
   "source": []
  }
 ],
 "metadata": {
  "kernelspec": {
   "display_name": "Python 3",
   "language": "python",
   "name": "python3"
  },
  "language_info": {
   "codemirror_mode": {
    "name": "ipython",
    "version": 3
   },
   "file_extension": ".py",
   "mimetype": "text/x-python",
   "name": "python",
   "nbconvert_exporter": "python",
   "pygments_lexer": "ipython3",
   "version": "3.7.4"
  }
 },
 "nbformat": 4,
 "nbformat_minor": 2
}
